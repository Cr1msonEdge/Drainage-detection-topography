{
 "cells": [
  {
   "cell_type": "markdown",
   "id": "72579d86",
   "metadata": {},
   "source": [
    "## Imports"
   ]
  },
  {
   "cell_type": "code",
   "execution_count": 1,
   "id": "f8646061",
   "metadata": {},
   "outputs": [],
   "source": [
    "%load_ext autoreload"
   ]
  },
  {
   "cell_type": "code",
   "execution_count": 2,
   "id": "f8600fd7",
   "metadata": {},
   "outputs": [],
   "source": [
    "%autoreload 2"
   ]
  },
  {
   "cell_type": "code",
   "execution_count": 3,
   "id": "5eef4c75",
   "metadata": {},
   "outputs": [],
   "source": [
    "import os\n",
    "import sys\n",
    "project_root = os.path.abspath(os.path.join('..'))\n",
    "if project_root not in sys.path:\n",
    "    sys.path.append(project_root)\n",
    "\n",
    "import warnings\n",
    "warnings.simplefilter(\"ignore\", UserWarning)"
   ]
  },
  {
   "cell_type": "code",
   "execution_count": 4,
   "id": "ec924f25",
   "metadata": {},
   "outputs": [],
   "source": [
    "# from transformers import SegformerForSemanticSegmentation\n",
    "import torch\n",
    "from torch import nn\n",
    "import numpy as np\n",
    "from torchinfo import summary\n",
    "from helper.models.unet import *\n",
    "from helper.models.deeplab_mobilenet import *\n",
    "from helper.models.nvidia_ade20k import *\n",
    "from engine.application import *\n",
    "import matplotlib.pyplot as plt\n",
    "%matplotlib inline"
   ]
  },
  {
   "cell_type": "markdown",
   "id": "191291e0",
   "metadata": {},
   "source": [
    "## Main"
   ]
  },
  {
   "cell_type": "code",
   "execution_count": 7,
   "id": "f9741d72",
   "metadata": {},
   "outputs": [
    {
     "data": {
      "text/plain": [
       "=========================================================================================================\n",
       "Layer (type:depth-idx)                                  Output Shape              Param #\n",
       "=========================================================================================================\n",
       "DeepLabV3Plus                                           [1, 2, 256, 256]          --\n",
       "├─ResNetEncoder: 1-1                                    [1, 4, 256, 256]          --\n",
       "│    └─Conv2d: 2-1                                      [1, 64, 128, 128]         12,544\n",
       "│    └─BatchNorm2d: 2-2                                 [1, 64, 128, 128]         128\n",
       "│    └─ReLU: 2-3                                        [1, 64, 128, 128]         --\n",
       "│    └─MaxPool2d: 2-4                                   [1, 64, 64, 64]           --\n",
       "│    └─Sequential: 2-5                                  [1, 64, 64, 64]           --\n",
       "│    │    └─BasicBlock: 3-1                             [1, 64, 64, 64]           73,984\n",
       "│    │    └─BasicBlock: 3-2                             [1, 64, 64, 64]           73,984\n",
       "│    │    └─BasicBlock: 3-3                             [1, 64, 64, 64]           73,984\n",
       "│    └─Sequential: 2-6                                  [1, 128, 32, 32]          --\n",
       "│    │    └─BasicBlock: 3-4                             [1, 128, 32, 32]          230,144\n",
       "│    │    └─BasicBlock: 3-5                             [1, 128, 32, 32]          295,424\n",
       "│    │    └─BasicBlock: 3-6                             [1, 128, 32, 32]          295,424\n",
       "│    │    └─BasicBlock: 3-7                             [1, 128, 32, 32]          295,424\n",
       "│    └─Sequential: 2-7                                  [1, 256, 16, 16]          --\n",
       "│    │    └─BasicBlock: 3-8                             [1, 256, 16, 16]          919,040\n",
       "│    │    └─BasicBlock: 3-9                             [1, 256, 16, 16]          1,180,672\n",
       "│    │    └─BasicBlock: 3-10                            [1, 256, 16, 16]          1,180,672\n",
       "│    │    └─BasicBlock: 3-11                            [1, 256, 16, 16]          1,180,672\n",
       "│    │    └─BasicBlock: 3-12                            [1, 256, 16, 16]          1,180,672\n",
       "│    │    └─BasicBlock: 3-13                            [1, 256, 16, 16]          1,180,672\n",
       "│    └─Sequential: 2-8                                  [1, 512, 16, 16]          --\n",
       "│    │    └─BasicBlock: 3-14                            [1, 512, 16, 16]          3,673,088\n",
       "│    │    └─BasicBlock: 3-15                            [1, 512, 16, 16]          4,720,640\n",
       "│    │    └─BasicBlock: 3-16                            [1, 512, 16, 16]          4,720,640\n",
       "├─DeepLabV3PlusDecoder: 1-2                             [1, 256, 64, 64]          --\n",
       "│    └─Sequential: 2-9                                  [1, 256, 16, 16]          --\n",
       "│    │    └─ASPP: 3-17                                  [1, 256, 16, 16]          999,936\n",
       "│    │    └─SeparableConv2d: 3-18                       [1, 256, 16, 16]          67,840\n",
       "│    │    └─BatchNorm2d: 3-19                           [1, 256, 16, 16]          512\n",
       "│    │    └─ReLU: 3-20                                  [1, 256, 16, 16]          --\n",
       "│    └─UpsamplingBilinear2d: 2-10                       [1, 256, 64, 64]          --\n",
       "│    └─Sequential: 2-11                                 [1, 48, 64, 64]           --\n",
       "│    │    └─Conv2d: 3-21                                [1, 48, 64, 64]           3,072\n",
       "│    │    └─BatchNorm2d: 3-22                           [1, 48, 64, 64]           96\n",
       "│    │    └─ReLU: 3-23                                  [1, 48, 64, 64]           --\n",
       "│    └─Sequential: 2-12                                 [1, 256, 64, 64]          --\n",
       "│    │    └─SeparableConv2d: 3-24                       [1, 256, 64, 64]          80,560\n",
       "│    │    └─BatchNorm2d: 3-25                           [1, 256, 64, 64]          512\n",
       "│    │    └─ReLU: 3-26                                  [1, 256, 64, 64]          --\n",
       "├─SegmentationHead: 1-3                                 [1, 2, 256, 256]          --\n",
       "│    └─Conv2d: 2-13                                     [1, 2, 64, 64]            514\n",
       "│    └─UpsamplingBilinear2d: 2-14                       [1, 2, 256, 256]          --\n",
       "│    └─Activation: 2-15                                 [1, 2, 256, 256]          --\n",
       "│    │    └─Identity: 3-27                              [1, 2, 256, 256]          --\n",
       "=========================================================================================================\n",
       "Total params: 22,440,850\n",
       "Trainable params: 22,440,850\n",
       "Non-trainable params: 0\n",
       "Total mult-adds (Units.GIGABYTES): 7.94\n",
       "=========================================================================================================\n",
       "Input size (MB): 1.05\n",
       "Forward/backward pass size (MB): 129.04\n",
       "Params size (MB): 89.76\n",
       "Estimated Total Size (MB): 219.86\n",
       "========================================================================================================="
      ]
     },
     "execution_count": 7,
     "metadata": {},
     "output_type": "execute_result"
    }
   ],
   "source": [
    "model_name = \"DeepLabV3-20250510-235017.pt\"\n",
    "model = DeepLab.load_model(model_name)\n",
    "summary(model.model, (1, 4, 256, 256))"
   ]
  },
  {
   "cell_type": "code",
   "execution_count": 8,
   "id": "2a9de21e",
   "metadata": {},
   "outputs": [
    {
     "data": {
      "text/plain": [
       "=============================================================================================================================\n",
       "Layer (type:depth-idx)                                                      Output Shape              Param #\n",
       "=============================================================================================================================\n",
       "SegformerForSemanticSegmentation                                            [1, 2, 64, 64]            --\n",
       "├─SegformerModel: 1-1                                                       [1, 32, 64, 64]           --\n",
       "│    └─SegformerEncoder: 2-1                                                [1, 32, 64, 64]           --\n",
       "│    │    └─ModuleList: 3-10                                                --                        (recursive)\n",
       "│    │    └─ModuleList: 3-11                                                --                        (recursive)\n",
       "│    │    └─ModuleList: 3-12                                                --                        (recursive)\n",
       "│    │    └─ModuleList: 3-10                                                --                        (recursive)\n",
       "│    │    └─ModuleList: 3-11                                                --                        (recursive)\n",
       "│    │    └─ModuleList: 3-12                                                --                        (recursive)\n",
       "│    │    └─ModuleList: 3-10                                                --                        (recursive)\n",
       "│    │    └─ModuleList: 3-11                                                --                        (recursive)\n",
       "│    │    └─ModuleList: 3-12                                                --                        (recursive)\n",
       "│    │    └─ModuleList: 3-10                                                --                        (recursive)\n",
       "│    │    └─ModuleList: 3-11                                                --                        (recursive)\n",
       "│    │    └─ModuleList: 3-12                                                --                        (recursive)\n",
       "├─SegformerDecodeHead: 1-2                                                  [1, 2, 64, 64]            --\n",
       "│    └─ModuleList: 2-2                                                      --                        --\n",
       "│    │    └─SegformerMLP: 3-13                                              [1, 4096, 256]            8,448\n",
       "│    │    └─SegformerMLP: 3-14                                              [1, 1024, 256]            16,640\n",
       "│    │    └─SegformerMLP: 3-15                                              [1, 256, 256]             41,216\n",
       "│    │    └─SegformerMLP: 3-16                                              [1, 64, 256]              65,792\n",
       "│    └─Conv2d: 2-3                                                          [1, 256, 64, 64]          262,144\n",
       "│    └─BatchNorm2d: 2-4                                                     [1, 256, 64, 64]          512\n",
       "│    └─ReLU: 2-5                                                            [1, 256, 64, 64]          --\n",
       "│    └─Dropout: 2-6                                                         [1, 256, 64, 64]          --\n",
       "│    └─Conv2d: 2-7                                                          [1, 2, 64, 64]            514\n",
       "=============================================================================================================================\n",
       "Total params: 3,716,226\n",
       "Trainable params: 3,716,226\n",
       "Non-trainable params: 0\n",
       "Total mult-adds (Units.GIGABYTES): 1.22\n",
       "=============================================================================================================================\n",
       "Input size (MB): 1.05\n",
       "Forward/backward pass size (MB): 88.47\n",
       "Params size (MB): 14.86\n",
       "Estimated Total Size (MB): 104.39\n",
       "============================================================================================================================="
      ]
     },
     "execution_count": 8,
     "metadata": {},
     "output_type": "execute_result"
    }
   ],
   "source": [
    "model_name = \"Segformer-20250510-175036.pt\"\n",
    "model = NvidiaSegformer.load_model(model_name)\n",
    "summary(model.model, (1, 4, 256, 256))"
   ]
  },
  {
   "cell_type": "code",
   "execution_count": 9,
   "id": "42db116f",
   "metadata": {},
   "outputs": [
    {
     "data": {
      "text/plain": [
       "===============================================================================================\n",
       "Layer (type:depth-idx)                        Output Shape              Param #\n",
       "===============================================================================================\n",
       "Unet                                          [1, 2, 256, 256]          --\n",
       "├─ResNetEncoder: 1-1                          [1, 4, 256, 256]          --\n",
       "│    └─Conv2d: 2-1                            [1, 64, 128, 128]         12,544\n",
       "│    └─BatchNorm2d: 2-2                       [1, 64, 128, 128]         128\n",
       "│    └─ReLU: 2-3                              [1, 64, 128, 128]         --\n",
       "│    └─MaxPool2d: 2-4                         [1, 64, 64, 64]           --\n",
       "│    └─Sequential: 2-5                        [1, 64, 64, 64]           --\n",
       "│    │    └─BasicBlock: 3-1                   [1, 64, 64, 64]           73,984\n",
       "│    │    └─BasicBlock: 3-2                   [1, 64, 64, 64]           73,984\n",
       "│    │    └─BasicBlock: 3-3                   [1, 64, 64, 64]           73,984\n",
       "│    └─Sequential: 2-6                        [1, 128, 32, 32]          --\n",
       "│    │    └─BasicBlock: 3-4                   [1, 128, 32, 32]          230,144\n",
       "│    │    └─BasicBlock: 3-5                   [1, 128, 32, 32]          295,424\n",
       "│    │    └─BasicBlock: 3-6                   [1, 128, 32, 32]          295,424\n",
       "│    │    └─BasicBlock: 3-7                   [1, 128, 32, 32]          295,424\n",
       "│    └─Sequential: 2-7                        [1, 256, 16, 16]          --\n",
       "│    │    └─BasicBlock: 3-8                   [1, 256, 16, 16]          919,040\n",
       "│    │    └─BasicBlock: 3-9                   [1, 256, 16, 16]          1,180,672\n",
       "│    │    └─BasicBlock: 3-10                  [1, 256, 16, 16]          1,180,672\n",
       "│    │    └─BasicBlock: 3-11                  [1, 256, 16, 16]          1,180,672\n",
       "│    │    └─BasicBlock: 3-12                  [1, 256, 16, 16]          1,180,672\n",
       "│    │    └─BasicBlock: 3-13                  [1, 256, 16, 16]          1,180,672\n",
       "│    └─Sequential: 2-8                        [1, 512, 8, 8]            --\n",
       "│    │    └─BasicBlock: 3-14                  [1, 512, 8, 8]            3,673,088\n",
       "│    │    └─BasicBlock: 3-15                  [1, 512, 8, 8]            4,720,640\n",
       "│    │    └─BasicBlock: 3-16                  [1, 512, 8, 8]            4,720,640\n",
       "├─UnetDecoder: 1-2                            [1, 16, 256, 256]         --\n",
       "│    └─Identity: 2-9                          [1, 512, 8, 8]            --\n",
       "│    └─ModuleList: 2-10                       --                        --\n",
       "│    │    └─DecoderBlock: 3-17                [1, 256, 16, 16]          2,360,320\n",
       "│    │    └─DecoderBlock: 3-18                [1, 128, 32, 32]          590,336\n",
       "│    │    └─DecoderBlock: 3-19                [1, 64, 64, 64]           147,712\n",
       "│    │    └─DecoderBlock: 3-20                [1, 32, 128, 128]         46,208\n",
       "│    │    └─DecoderBlock: 3-21                [1, 16, 256, 256]         6,976\n",
       "├─SegmentationHead: 1-3                       [1, 2, 256, 256]          --\n",
       "│    └─Conv2d: 2-11                           [1, 2, 256, 256]          290\n",
       "│    └─Identity: 2-12                         [1, 2, 256, 256]          --\n",
       "│    └─Activation: 2-13                       [1, 2, 256, 256]          --\n",
       "│    │    └─Identity: 3-22                    [1, 2, 256, 256]          --\n",
       "===============================================================================================\n",
       "Total params: 24,439,650\n",
       "Trainable params: 24,439,650\n",
       "Non-trainable params: 0\n",
       "Total mult-adds (Units.GIGABYTES): 7.87\n",
       "===============================================================================================\n",
       "Input size (MB): 1.05\n",
       "Forward/backward pass size (MB): 144.18\n",
       "Params size (MB): 97.76\n",
       "Estimated Total Size (MB): 242.99\n",
       "==============================================================================================="
      ]
     },
     "execution_count": 9,
     "metadata": {},
     "output_type": "execute_result"
    }
   ],
   "source": [
    "model_name = \"Unet-20250510-200005.pt\"\n",
    "model = UNet.load_model(model_name)\n",
    "summary(model.model, (1, 4, 256, 256))"
   ]
  }
 ],
 "metadata": {
  "kernelspec": {
   "display_name": ".venv",
   "language": "python",
   "name": "python3"
  },
  "language_info": {
   "codemirror_mode": {
    "name": "ipython",
    "version": 3
   },
   "file_extension": ".py",
   "mimetype": "text/x-python",
   "name": "python",
   "nbconvert_exporter": "python",
   "pygments_lexer": "ipython3",
   "version": "3.11.0"
  }
 },
 "nbformat": 4,
 "nbformat_minor": 5
}
