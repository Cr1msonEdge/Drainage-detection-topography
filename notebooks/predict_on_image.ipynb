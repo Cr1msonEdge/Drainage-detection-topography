{
 "cells": [
  {
   "cell_type": "markdown",
   "metadata": {},
   "source": [
    "## Imports"
   ]
  },
  {
   "cell_type": "code",
   "execution_count": 42,
   "metadata": {},
   "outputs": [
    {
     "name": "stdout",
     "output_type": "stream",
     "text": [
      "The autoreload extension is already loaded. To reload it, use:\n",
      "  %reload_ext autoreload\n"
     ]
    }
   ],
   "source": [
    "%load_ext autoreload"
   ]
  },
  {
   "cell_type": "code",
   "execution_count": 43,
   "metadata": {},
   "outputs": [],
   "source": [
    "%autoreload 2"
   ]
  },
  {
   "cell_type": "code",
   "execution_count": 44,
   "metadata": {},
   "outputs": [],
   "source": [
    "import os\n",
    "import sys\n",
    "project_root = os.path.abspath(os.path.join('..'))\n",
    "if project_root not in sys.path:\n",
    "    sys.path.append(project_root)\n",
    "\n",
    "import warnings\n",
    "warnings.simplefilter(\"ignore\", UserWarning)"
   ]
  },
  {
   "cell_type": "code",
   "execution_count": 73,
   "metadata": {},
   "outputs": [],
   "source": [
    "# from transformers import SegformerForSemanticSegmentation\n",
    "import torch\n",
    "from torch import nn\n",
    "import numpy as np\n",
    "from torchinfo import summary\n",
    "from helper.models.unet import *\n",
    "from helper.models.deeplab_mobilenet import *\n",
    "from helper.models.nvidia_ade20k import *\n",
    "from engine.application import *\n",
    "import matplotlib.pyplot as plt\n",
    "%matplotlib inline"
   ]
  },
  {
   "cell_type": "markdown",
   "metadata": {},
   "source": [
    "## Main"
   ]
  },
  {
   "cell_type": "code",
   "execution_count": 46,
   "metadata": {},
   "outputs": [
    {
     "name": "stdout",
     "output_type": "stream",
     "text": [
      "Time to predict: 5.66 seconds\n",
      "=== Got result: ===\n",
      "accuracy - 1.00\n",
      "precision - 0.66\n",
      "recall - 0.72\n",
      "f1 - 0.69\n",
      "iou - 0.53\n",
      "dice - 0.72\n"
     ]
    }
   ],
   "source": [
    "model_name = \"DeepLabV3-20250510-235017.pt\"\n",
    "model = DeepLab.load_model(model_name)\n",
    "out_file_path = f\"../tests_on_full_image/predict-{model_name[:-3]}\"\n",
    "model.predict_image(\"../tests_on_full_image/Koleno_2009_2_merged.tif\", out_filename=out_file_path, timed=True)\n",
    "result = get_tif_metric(\"../tests_on_full_image/drainage_2009_2_rasterized.tif\", out_file_path)"
   ]
  },
  {
   "cell_type": "code",
   "execution_count": 91,
   "metadata": {},
   "outputs": [
    {
     "name": "stdout",
     "output_type": "stream",
     "text": [
      "Time to predict: 4.38 seconds\n",
      "=== Got result: ===\n",
      "accuracy - 1.00\n",
      "precision - 0.64\n",
      "recall - 0.64\n",
      "f1 - 0.64\n",
      "iou - 0.47\n",
      "dice - 0.65\n"
     ]
    }
   ],
   "source": [
    "model_name = \"Segformer-20250510-175036.pt\"\n",
    "model = NvidiaSegformer.load_model(model_name)\n",
    "out_file_path = f\"../tests_on_full_image/predict-{model_name[:-3]}\"\n",
    "model.predict_image(\"../tests_on_full_image/Koleno_2009_2_merged.tif\", out_filename=out_file_path, threshold=0.7, timed=True)\n",
    "result = get_tif_metric(\"../tests_on_full_image/drainage_2009_2_rasterized.tif\", out_file_path)"
   ]
  },
  {
   "cell_type": "code",
   "execution_count": 92,
   "metadata": {},
   "outputs": [
    {
     "name": "stdout",
     "output_type": "stream",
     "text": [
      "Time to predict: 6.71 seconds\n",
      "=== Got result: ===\n",
      "accuracy - 1.00\n",
      "precision - 0.77\n",
      "recall - 0.51\n",
      "f1 - 0.61\n",
      "iou - 0.44\n",
      "dice - 0.61\n"
     ]
    }
   ],
   "source": [
    "model_name = \"Unet-20250510-200005.pt\"\n",
    "model = UNet.load_model(model_name)\n",
    "out_file_path = f\"../tests_on_full_image/predict-{model_name[:-3]}\"\n",
    "model.predict_image(\"../tests_on_full_image/Koleno_2009_2_merged.tif\", out_filename=out_file_path, threshold=0.7, timed=True)\n",
    "result = get_tif_metric(\"../tests_on_full_image/drainage_2009_2_rasterized.tif\", out_file_path)"
   ]
  }
 ],
 "metadata": {
  "kernelspec": {
   "display_name": ".venv",
   "language": "python",
   "name": "python3"
  },
  "language_info": {
   "codemirror_mode": {
    "name": "ipython",
    "version": 3
   },
   "file_extension": ".py",
   "mimetype": "text/x-python",
   "name": "python",
   "nbconvert_exporter": "python",
   "pygments_lexer": "ipython3",
   "version": "3.11.0"
  }
 },
 "nbformat": 4,
 "nbformat_minor": 2
}
