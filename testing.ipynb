{
 "cells": [
  {
   "cell_type": "code",
   "execution_count": 2,
   "metadata": {},
   "outputs": [
    {
     "name": "stderr",
     "output_type": "stream",
     "text": [
      "g:\\Universe\\Materials\\Github Repos\\Drainage-detection-topography\\.venv\\Lib\\site-packages\\tqdm\\auto.py:21: TqdmWarning: IProgress not found. Please update jupyter and ipywidgets. See https://ipywidgets.readthedocs.io/en/stable/user_install.html\n",
      "  from .autonotebook import tqdm as notebook_tqdm\n"
     ]
    }
   ],
   "source": [
    "import argparse\n",
    "from helper.models.config import Config\n",
    "from engine.model_utils import *\n",
    "from helper.models.unet import *\n",
    "from helper.models.deeplab_mobilenet import *\n",
    "from helper.models.nvidia_ade20k import *\n",
    "from engine.data_setup import *\n",
    "from engine.model_utils import *\n",
    "from lightning.pytorch import Trainer\n",
    "from lightning.pytorch.loggers import NeptuneLogger\n",
    "from lightning.pytorch.callbacks import ModelCheckpoint\n",
    "from helper.api_key import *"
   ]
  },
  {
   "cell_type": "code",
   "execution_count": 4,
   "metadata": {},
   "outputs": [
    {
     "name": "stdout",
     "output_type": "stream",
     "text": [
      "=== Starting training ===\n",
      "=== Creating model === \n",
      "Initialized Unet\n",
      "Unet initialized with hyperparams: {'num_epochs': 100, 'batch_size': 64, 'opt': 'str', 'crit': 'CrossEntropy', 'learning_rate': 0.0001, 'scheduler': None}\n",
      "=== Setting up dataloader === \n",
      "dataset_plot_light\n"
     ]
    }
   ],
   "source": [
    "print(\"=== Starting training ===\")\n",
    "print(\"=== Creating model === \")\n",
    "config = Config()\n",
    "model_name = 'Unet'\n",
    "# Setting up model\n",
    "assert model_name in MODEL_NAMES, f\"Model {model_name} is not found.\"\n",
    "if \"Unet\" in model_name:\n",
    "    model = UNet(config, type=model_name)\n",
    "elif model_name == \"Segformer\":\n",
    "    model = NvidiaSegformer(config)\n",
    "else:\n",
    "    model = DeepLab(config)\n",
    "\n",
    "print(\"=== Setting up dataloader === \")\n",
    "# Getting dataloader\n",
    "dataloader = get_dataloader(mode='train', device=config.device, batch_size=config.BATCH_SIZE)"
   ]
  },
  {
   "cell_type": "code",
   "execution_count": 5,
   "metadata": {},
   "outputs": [
    {
     "data": {
      "text/plain": [
       "<torch.utils.data.dataloader.DataLoader at 0x128147a9a90>"
      ]
     },
     "execution_count": 5,
     "metadata": {},
     "output_type": "execute_result"
    }
   ],
   "source": [
    "dataloader"
   ]
  }
 ],
 "metadata": {
  "kernelspec": {
   "display_name": ".venv",
   "language": "python",
   "name": "python3"
  },
  "language_info": {
   "codemirror_mode": {
    "name": "ipython",
    "version": 3
   },
   "file_extension": ".py",
   "mimetype": "text/x-python",
   "name": "python",
   "nbconvert_exporter": "python",
   "pygments_lexer": "ipython3",
   "version": "3.13.2"
  }
 },
 "nbformat": 4,
 "nbformat_minor": 2
}
