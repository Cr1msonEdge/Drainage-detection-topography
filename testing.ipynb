{
 "cells": [
  {
   "cell_type": "code",
   "execution_count": 1,
   "metadata": {},
   "outputs": [
    {
     "name": "stderr",
     "output_type": "stream",
     "text": [
      "g:\\Universe\\Materials\\Github Repos\\Drainage-detection-topography\\.venv\\Lib\\site-packages\\tqdm\\auto.py:21: TqdmWarning: IProgress not found. Please update jupyter and ipywidgets. See https://ipywidgets.readthedocs.io/en/stable/user_install.html\n",
      "  from .autonotebook import tqdm as notebook_tqdm\n"
     ]
    }
   ],
   "source": [
    "# from transformers import SegformerForSemanticSegmentation\n",
    "import torch\n",
    "from torch import nn\n",
    "import numpy as np\n",
    "from torchinfo import summary\n",
    "from helper.models.unet import *\n",
    "from helper.models.deeplab_mobilenet import *\n",
    "from helper.models.nvidia_ade20k import *"
   ]
  },
  {
   "cell_type": "code",
   "execution_count": 2,
   "metadata": {},
   "outputs": [
    {
     "name": "stdout",
     "output_type": "stream",
     "text": [
      "NvidiaSegformer initialized with hyperparams: {'uid': '20250415-192021', 'num_epochs': 100, 'batch_size': 64, 'opt': 'Adam', 'crit': 'CrossEntropy', 'learning_rate': 0.0001, 'scheduler': None, 'dataset_name': None, 'num_channels': 4}\n"
     ]
    },
    {
     "name": "stderr",
     "output_type": "stream",
     "text": [
      "Some weights of SegformerForSemanticSegmentation were not initialized from the model checkpoint at nvidia/segformer-b1-finetuned-ade-512-512 and are newly initialized because the shapes did not match:\n",
      "- decode_head.classifier.weight: found shape torch.Size([150, 256, 1, 1]) in the checkpoint and torch.Size([2, 256, 1, 1]) in the model instantiated\n",
      "- decode_head.classifier.bias: found shape torch.Size([150]) in the checkpoint and torch.Size([2]) in the model instantiated\n",
      "You should probably TRAIN this model on a down-stream task to be able to use it for predictions and inference.\n",
      "g:\\Universe\\Materials\\Github Repos\\Drainage-detection-topography\\.venv\\Lib\\site-packages\\transformers\\models\\segformer\\feature_extraction_segformer.py:28: FutureWarning: The class SegformerFeatureExtractor is deprecated and will be removed in version 5 of Transformers. Please use SegformerImageProcessor instead.\n",
      "  warnings.warn(\n"
     ]
    }
   ],
   "source": [
    "unetmodel = NvidiaSegformer(Config(num_channels=4))"
   ]
  },
  {
   "cell_type": "code",
   "execution_count": 4,
   "metadata": {},
   "outputs": [
    {
     "name": "stdout",
     "output_type": "stream",
     "text": [
      "SegformerOverlapPatchEmbeddings(\n",
      "  (proj): Conv2d(4, 64, kernel_size=(7, 7), stride=(4, 4), padding=(3, 3))\n",
      "  (layer_norm): LayerNorm((64,), eps=1e-05, elementwise_affine=True)\n",
      ")\n"
     ]
    },
    {
     "data": {
      "text/plain": [
       "=========================================================================================================\n",
       "Layer (type:depth-idx)                                                           Param #\n",
       "=========================================================================================================\n",
       "NvidiaSegformer                                                                  --\n",
       "├─CrossEntropyLoss: 1-1                                                          --\n",
       "├─SegformerForSemanticSegmentation: 1-2                                          --\n",
       "│    └─SegformerModel: 2-1                                                       --\n",
       "│    │    └─SegformerEncoder: 3-1                                                (13,154,560)\n",
       "│    └─SegformerDecodeHead: 2-2                                                  --\n",
       "│    │    └─ModuleList: 3-2                                                      263,168\n",
       "│    │    └─Conv2d: 3-3                                                          262,144\n",
       "│    │    └─BatchNorm2d: 3-4                                                     512\n",
       "│    │    └─ReLU: 3-5                                                            --\n",
       "│    │    └─Dropout: 3-6                                                         --\n",
       "│    │    └─Conv2d: 3-7                                                          514\n",
       "=========================================================================================================\n",
       "Total params: 13,680,898\n",
       "Trainable params: 526,338\n",
       "Non-trainable params: 13,154,560\n",
       "========================================================================================================="
      ]
     },
     "execution_count": 4,
     "metadata": {},
     "output_type": "execute_result"
    }
   ],
   "source": [
    "#print(unetmodel.model.encoder.conv1)\n",
    "print(unetmodel.model.segformer.encoder.patch_embeddings[0])\n",
    "summary(unetmodel)"
   ]
  },
  {
   "cell_type": "code",
   "execution_count": null,
   "metadata": {},
   "outputs": [
    {
     "ename": "AttributeError",
     "evalue": "'SegformerForSemanticSegmentation' object has no attribute 'encoder'",
     "output_type": "error",
     "traceback": [
      "\u001b[31m---------------------------------------------------------------------------\u001b[39m",
      "\u001b[31mAttributeError\u001b[39m                            Traceback (most recent call last)",
      "\u001b[36mCell\u001b[39m\u001b[36m \u001b[39m\u001b[32mIn[5]\u001b[39m\u001b[32m, line 1\u001b[39m\n\u001b[32m----> \u001b[39m\u001b[32m1\u001b[39m \u001b[38;5;28;01mfor\u001b[39;00m param \u001b[38;5;129;01min\u001b[39;00m \u001b[43munetmodel\u001b[49m\u001b[43m.\u001b[49m\u001b[43mmodel\u001b[49m\u001b[43m.\u001b[49m\u001b[43mencoder\u001b[49m.parameters():\n\u001b[32m      2\u001b[39m     param.requires_grad = \u001b[38;5;28;01mFalse\u001b[39;00m\n\u001b[32m      4\u001b[39m \u001b[38;5;28;01mfor\u001b[39;00m param \u001b[38;5;129;01min\u001b[39;00m unetmodel.model.encoder.conv1.parameters():\n",
      "\u001b[36mFile \u001b[39m\u001b[32mg:\\Universe\\Materials\\Github Repos\\Drainage-detection-topography\\.venv\\Lib\\site-packages\\torch\\nn\\modules\\module.py:1928\u001b[39m, in \u001b[36mModule.__getattr__\u001b[39m\u001b[34m(self, name)\u001b[39m\n\u001b[32m   1926\u001b[39m     \u001b[38;5;28;01mif\u001b[39;00m name \u001b[38;5;129;01min\u001b[39;00m modules:\n\u001b[32m   1927\u001b[39m         \u001b[38;5;28;01mreturn\u001b[39;00m modules[name]\n\u001b[32m-> \u001b[39m\u001b[32m1928\u001b[39m \u001b[38;5;28;01mraise\u001b[39;00m \u001b[38;5;167;01mAttributeError\u001b[39;00m(\n\u001b[32m   1929\u001b[39m     \u001b[33mf\u001b[39m\u001b[33m\"\u001b[39m\u001b[33m'\u001b[39m\u001b[38;5;132;01m{\u001b[39;00m\u001b[38;5;28mtype\u001b[39m(\u001b[38;5;28mself\u001b[39m).\u001b[34m__name__\u001b[39m\u001b[38;5;132;01m}\u001b[39;00m\u001b[33m'\u001b[39m\u001b[33m object has no attribute \u001b[39m\u001b[33m'\u001b[39m\u001b[38;5;132;01m{\u001b[39;00mname\u001b[38;5;132;01m}\u001b[39;00m\u001b[33m'\u001b[39m\u001b[33m\"\u001b[39m\n\u001b[32m   1930\u001b[39m )\n",
      "\u001b[31mAttributeError\u001b[39m: 'SegformerForSemanticSegmentation' object has no attribute 'encoder'"
     ]
    }
   ],
   "source": [
    "# for param in unetmodel.model.encoder.parameters():\n",
    "#     param.requires_grad = False\n",
    "\n",
    "# for param in unetmodel.model.encoder.conv1.parameters():\n",
    "#     param.requires_grad = True\n",
    "# summary(unetmodel)"
   ]
  }
 ],
 "metadata": {
  "kernelspec": {
   "display_name": ".venv",
   "language": "python",
   "name": "python3"
  },
  "language_info": {
   "codemirror_mode": {
    "name": "ipython",
    "version": 3
   },
   "file_extension": ".py",
   "mimetype": "text/x-python",
   "name": "python",
   "nbconvert_exporter": "python",
   "pygments_lexer": "ipython3",
   "version": "3.13.2"
  }
 },
 "nbformat": 4,
 "nbformat_minor": 2
}
