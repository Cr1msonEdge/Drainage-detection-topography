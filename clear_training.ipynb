{
 "cells": [
  {
   "cell_type": "code",
   "execution_count": 1,
   "metadata": {},
   "outputs": [],
   "source": [
    "%load_ext autoreload"
   ]
  },
  {
   "cell_type": "code",
   "execution_count": 2,
   "metadata": {},
   "outputs": [],
   "source": [
    "%autoreload 2"
   ]
  },
  {
   "cell_type": "code",
   "execution_count": 3,
   "metadata": {},
   "outputs": [
    {
     "name": "stderr",
     "output_type": "stream",
     "text": [
      "g:\\Universe\\Materials\\Github Repos\\Drainage-detection-topography\\.venv\\Lib\\site-packages\\tqdm\\auto.py:21: TqdmWarning: IProgress not found. Please update jupyter and ipywidgets. See https://ipywidgets.readthedocs.io/en/stable/user_install.html\n",
      "  from .autonotebook import tqdm as notebook_tqdm\n"
     ]
    }
   ],
   "source": [
    "from engine.data_setup import *"
   ]
  },
  {
   "cell_type": "code",
   "execution_count": 4,
   "metadata": {},
   "outputs": [],
   "source": [
    "dataset_name = 'test_bad'"
   ]
  },
  {
   "cell_type": "code",
   "execution_count": 5,
   "metadata": {},
   "outputs": [],
   "source": [
    "train_dataset = get_dataset(mode='train', name=dataset_name, device='cuda', batch_size=128)\n"
   ]
  },
  {
   "cell_type": "code",
   "execution_count": 6,
   "metadata": {},
   "outputs": [
    {
     "data": {
      "text/plain": [
       "torch.float32"
      ]
     },
     "execution_count": 6,
     "metadata": {},
     "output_type": "execute_result"
    }
   ],
   "source": [
    "train_dataset[0][0].dtype"
   ]
  },
  {
   "cell_type": "code",
   "execution_count": 7,
   "metadata": {},
   "outputs": [],
   "source": [
    "train_dataloader = get_dataloader(mode='train', name=dataset_name, device='cuda', batch_size=128)\n",
    "test_dataloader = get_dataloader(mode='test', name=dataset_name, device='cuda', batch_size=128)"
   ]
  },
  {
   "cell_type": "code",
   "execution_count": 8,
   "metadata": {},
   "outputs": [
    {
     "data": {
      "text/plain": [
       "torch.Size([128, 4, 256, 256])"
      ]
     },
     "execution_count": 8,
     "metadata": {},
     "output_type": "execute_result"
    }
   ],
   "source": [
    "next(iter(train_dataloader))[0].shape"
   ]
  },
  {
   "cell_type": "code",
   "execution_count": null,
   "metadata": {},
   "outputs": [
    {
     "name": "stdout",
     "output_type": "stream",
     "text": [
      "=== Starting training ===\n",
      "=== Creating model === \n",
      "Unet initialized with hyperparams: {'uid': '20250415-143349', 'num_epochs': 4, 'batch_size': 64, 'opt': 'Adam', 'crit': 'CrossEntropy', 'learning_rate': 0.0001, 'scheduler': None, 'test_iter': 0, 'dataset_name': 'test_bad'}\n",
      "=== Setting up dataloader === \n",
      "=== Setting up Neptune === \n",
      "=== Creating checkpoint ===\n"
     ]
    },
    {
     "name": "stderr",
     "output_type": "stream",
     "text": [
      "[neptune] [warning] NeptuneWarning: By default, these monitoring options are disabled in interactive sessions: 'capture_stdout', 'capture_stderr', 'capture_traceback', 'capture_hardware_metrics'. You can set them to 'True' when initializing the run and the monitoring will continue until you call run.stop() or the kernel stops. NOTE: To track the source files, pass their paths to the 'source_code' argument. For help, see: https://docs.neptune.ai/logging/source_code/\n"
     ]
    },
    {
     "name": "stdout",
     "output_type": "stream",
     "text": [
      "[neptune] [info   ] Neptune initialized. Open in the app: https://app.neptune.ai/cr1msonedge/drainage-detection-topography/e/DRAINAGE-58\n"
     ]
    },
    {
     "name": "stderr",
     "output_type": "stream",
     "text": [
      "GPU available: True (cuda), used: True\n",
      "TPU available: False, using: 0 TPU cores\n",
      "HPU available: False, using: 0 HPUs\n",
      "You are using a CUDA device ('NVIDIA GeForce RTX 4070') that has Tensor Cores. To properly utilize them, you should set `torch.set_float32_matmul_precision('medium' | 'high')` which will trade-off precision for performance. For more details, read https://pytorch.org/docs/stable/generated/torch.set_float32_matmul_precision.html#torch.set_float32_matmul_precision\n",
      "g:\\Universe\\Materials\\Github Repos\\Drainage-detection-topography\\.venv\\Lib\\site-packages\\lightning\\pytorch\\callbacks\\model_checkpoint.py:654: Checkpoint directory G:\\Universe\\Materials\\Github Repos\\Drainage-detection-topography\\helper\\models\\saved\\Unet exists and is not empty.\n",
      "LOCAL_RANK: 0 - CUDA_VISIBLE_DEVICES: [0]\n",
      "\n",
      "  | Name  | Type             | Params | Mode \n",
      "---------------------------------------------------\n",
      "0 | loss  | CrossEntropyLoss | 0      | train\n",
      "1 | model | Unet             | 24.4 M | train\n",
      "---------------------------------------------------\n",
      "24.4 M    Trainable params\n",
      "0         Non-trainable params\n",
      "24.4 M    Total params\n",
      "97.759    Total estimated model params size (MB)\n",
      "189       Modules in train mode\n",
      "0         Modules in eval mode\n"
     ]
    },
    {
     "name": "stdout",
     "output_type": "stream",
     "text": [
      "=== Training ===\n",
      "Sanity Checking DataLoader 0:   0%|          | 0/2 [00:00<?, ?it/s]"
     ]
    },
    {
     "name": "stderr",
     "output_type": "stream",
     "text": [
      "g:\\Universe\\Materials\\Github Repos\\Drainage-detection-topography\\.venv\\Lib\\site-packages\\lightning\\pytorch\\trainer\\connectors\\data_connector.py:425: The 'val_dataloader' does not have many workers which may be a bottleneck. Consider increasing the value of the `num_workers` argument` to `num_workers=11` in the `DataLoader` to improve performance.\n"
     ]
    },
    {
     "name": "stdout",
     "output_type": "stream",
     "text": [
      "                                                                           "
     ]
    },
    {
     "name": "stderr",
     "output_type": "stream",
     "text": [
      "g:\\Universe\\Materials\\Github Repos\\Drainage-detection-topography\\.venv\\Lib\\site-packages\\lightning\\pytorch\\trainer\\connectors\\data_connector.py:425: The 'train_dataloader' does not have many workers which may be a bottleneck. Consider increasing the value of the `num_workers` argument` to `num_workers=11` in the `DataLoader` to improve performance.\n"
     ]
    },
    {
     "name": "stdout",
     "output_type": "stream",
     "text": [
      "Epoch 0: 100%|██████████| 38/38 [00:24<00:00,  1.54it/s, v_num=E-58, train_loss_step=0.530, lr=0.0001, train_metric_step=0.0113, val_metric_step=0.00563, val_loss=0.531, val_metric_epoch=0.00773, train_loss_epoch=0.658, train_metric_epoch=0.00904][neptune] [error  ] Error occurred during asynchronous operation processing: X-coordinates (step) must be strictly increasing for series attribute: training/epoch. Invalid point: 37.0\n",
      "Epoch 2:   0%|          | 0/38 [00:00<?, ?it/s, v_num=E-58, train_loss_step=0.322, lr=0.0001, train_metric_step=0.0538, val_metric_step=0.00102, val_loss=0.321, val_metric_epoch=0.00243, train_loss_epoch=0.377, train_metric_epoch=0.00356]           [neptune] [error  ] File G:\\Universe\\Materials\\Github Repos\\Drainage-detection-topography\\helper\\models\\saved\\Unet\\Unet-20250415-143349.ckpt changed during upload, restarting upload.\n",
      "Epoch 2: 100%|██████████| 38/38 [00:24<00:00,  1.54it/s, v_num=E-58, train_loss_step=0.238, lr=0.0001, train_metric_step=0.015, val_metric_step=2.47e-5, val_loss=0.236, val_metric_epoch=0.00109, train_loss_epoch=0.254, train_metric_epoch=0.000458]  [neptune] [error  ] Error occurred during asynchronous operation processing: X-coordinates (step) must be strictly increasing for series attribute: training/epoch. Invalid point: 37.0\n",
      "Epoch 3:   0%|          | 0/38 [00:00<?, ?it/s, v_num=E-58, train_loss_step=0.238, lr=0.0001, train_metric_step=0.015, val_metric_step=2.47e-5, val_loss=0.236, val_metric_epoch=0.00109, train_loss_epoch=0.254, train_metric_epoch=0.000458]         [neptune] [error  ] File G:\\Universe\\Materials\\Github Repos\\Drainage-detection-topography\\helper\\models\\saved\\Unet\\Unet-20250415-143349.ckpt changed during upload, restarting upload.\n",
      "Epoch 3: 100%|██████████| 38/38 [00:24<00:00,  1.52it/s, v_num=E-58, train_loss_step=0.179, lr=0.0001, train_metric_step=0.0651, val_metric_step=0.000, val_loss=0.178, val_metric_epoch=0.000269, train_loss_epoch=0.193, train_metric_epoch=0.00042]    "
     ]
    },
    {
     "name": "stderr",
     "output_type": "stream",
     "text": [
      "`Trainer.fit` stopped: `max_epochs=4` reached.\n"
     ]
    },
    {
     "name": "stdout",
     "output_type": "stream",
     "text": [
      "Epoch 3: 100%|██████████| 38/38 [00:26<00:00,  1.42it/s, v_num=E-58, train_loss_step=0.179, lr=0.0001, train_metric_step=0.0651, val_metric_step=0.000, val_loss=0.178, val_metric_epoch=0.000269, train_loss_epoch=0.193, train_metric_epoch=0.00042]\n",
      "=== Training finished ===\n",
      "Saved into G:\\Universe\\Materials\\Github Repos\\Drainage-detection-topography\\helper\\models\\saved\\Unet/Unet-20250415-143349.ckpt\n",
      "Config is Epochs: 4, lr: 0.0001, batch_size: 64, optimizer: Adam, criterion: CrossEntropy\n"
     ]
    },
    {
     "name": "stdout",
     "output_type": "stream",
     "text": [
      "[neptune] [error  ] File G:\\Universe\\Materials\\Github Repos\\Drainage-detection-topography\\helper\\models\\saved\\Unet\\Unet-20250415-143349.ckpt changed during upload, restarting upload.\n",
      "[neptune] [error  ] Error occurred during asynchronous operation processing: X-coordinates (step) must be strictly increasing for series attribute: training/epoch. Invalid point: 75.0\n",
      "[neptune] [error  ] Error occurred during asynchronous operation processing: X-coordinates (step) must be strictly increasing for series attribute: training/epoch. Invalid point: 75.0\n",
      "[neptune] [error  ] Error occurred during asynchronous operation processing: X-coordinates (step) must be strictly increasing for series attribute: training/epoch. Invalid point: 113.0\n",
      "[neptune] [error  ] Error occurred during asynchronous operation processing: X-coordinates (step) must be strictly increasing for series attribute: training/epoch. Invalid point: 113.0\n",
      "[neptune] [error  ] Error occurred during asynchronous operation processing: X-coordinates (step) must be strictly increasing for series attribute: training/epoch. Invalid point: 151.0\n",
      "[neptune] [error  ] Error occurred during asynchronous operation processing: X-coordinates (step) must be strictly increasing for series attribute: training/epoch. Invalid point: 151.0\n"
     ]
    }
   ],
   "source": [
    "from engine.train import *\n",
    "from helper.models.config import *\n",
    "config = Config(num_epochs=4, dataset_name='test_bad')\n",
    "run_training(\"Unet\", config)\n"
   ]
  }
 ],
 "metadata": {
  "kernelspec": {
   "display_name": ".venv",
   "language": "python",
   "name": "python3"
  },
  "language_info": {
   "codemirror_mode": {
    "name": "ipython",
    "version": 3
   },
   "file_extension": ".py",
   "mimetype": "text/x-python",
   "name": "python",
   "nbconvert_exporter": "python",
   "pygments_lexer": "ipython3",
   "version": "3.13.2"
  }
 },
 "nbformat": 4,
 "nbformat_minor": 2
}
